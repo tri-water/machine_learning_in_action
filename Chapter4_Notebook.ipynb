{
 "cells": [
  {
   "cell_type": "code",
   "execution_count": 1,
   "metadata": {},
   "outputs": [],
   "source": [
    "import bayes"
   ]
  },
  {
   "cell_type": "code",
   "execution_count": 2,
   "metadata": {},
   "outputs": [],
   "source": [
    "posting_list, class_vec = bayes.load_dataset()\n",
    "my_vocal_list = bayes.create_vocab_list(posting_list)"
   ]
  },
  {
   "cell_type": "code",
   "execution_count": 3,
   "metadata": {},
   "outputs": [
    {
     "name": "stdout",
     "output_type": "stream",
     "text": [
      "['worthless', 'has', 'dog', 'park', 'cute', 'not', 'posting', 'stupid', 'is', 'take', 'flea', 'love', 'I', 'please', 'garbage', 'to', 'licks', 'maybe', 'mr', 'stop', 'my', 'so', 'him', 'food', 'ate', 'steak', 'buying', 'problems', 'how', 'dalmation', 'help', 'quit']\n"
     ]
    }
   ],
   "source": [
    "print(my_vocal_list)"
   ]
  },
  {
   "cell_type": "code",
   "execution_count": 5,
   "metadata": {},
   "outputs": [
    {
     "name": "stdout",
     "output_type": "stream",
     "text": [
      "[[0. 1. 1. 0. 0. 0. 0. 0. 0. 0. 1. 0. 0. 1. 0. 0. 0. 0. 0. 0. 1. 0. 0. 0.\n",
      "  0. 0. 0. 1. 0. 0. 1. 0.]]\n"
     ]
    }
   ],
   "source": [
    "print(bayes.set_of_words_2_vec(my_vocal_list, posting_list[0]))"
   ]
  },
  {
   "cell_type": "code",
   "execution_count": 6,
   "metadata": {},
   "outputs": [
    {
     "name": "stdout",
     "output_type": "stream",
     "text": [
      "[[0. 0. 1. 1. 0. 1. 0. 1. 0. 1. 0. 0. 0. 0. 0. 1. 0. 1. 0. 0. 0. 0. 1. 0.\n",
      "  0. 0. 0. 0. 0. 0. 0. 0.]]\n"
     ]
    }
   ],
   "source": [
    "print(bayes.set_of_words_2_vec(my_vocal_list, posting_list[1]))"
   ]
  },
  {
   "cell_type": "code",
   "execution_count": 7,
   "metadata": {},
   "outputs": [
    {
     "data": {
      "text/plain": [
       "['worthless',\n",
       " 'has',\n",
       " 'dog',\n",
       " 'park',\n",
       " 'cute',\n",
       " 'not',\n",
       " 'posting',\n",
       " 'stupid',\n",
       " 'is',\n",
       " 'take',\n",
       " 'flea',\n",
       " 'love',\n",
       " 'I',\n",
       " 'please',\n",
       " 'garbage',\n",
       " 'to',\n",
       " 'licks',\n",
       " 'maybe',\n",
       " 'mr',\n",
       " 'stop',\n",
       " 'my',\n",
       " 'so',\n",
       " 'him',\n",
       " 'food',\n",
       " 'ate',\n",
       " 'steak',\n",
       " 'buying',\n",
       " 'problems',\n",
       " 'how',\n",
       " 'dalmation',\n",
       " 'help',\n",
       " 'quit']"
      ]
     },
     "execution_count": 7,
     "metadata": {},
     "output_type": "execute_result"
    }
   ],
   "source": [
    "my_vocal_list"
   ]
  },
  {
   "cell_type": "code",
   "execution_count": 8,
   "metadata": {},
   "outputs": [
    {
     "name": "stdout",
     "output_type": "stream",
     "text": [
      "[[-3.25809654 -1.94591015]\n",
      " [-2.56494936 -3.04452244]\n",
      " [-2.56494936 -1.94591015]\n",
      " [-3.25809654 -2.35137526]\n",
      " [-2.56494936 -3.04452244]\n",
      " [-3.25809654 -2.35137526]\n",
      " [-3.25809654 -2.35137526]\n",
      " [-3.25809654 -1.65822808]\n",
      " [-2.56494936 -3.04452244]\n",
      " [-3.25809654 -2.35137526]\n",
      " [-2.56494936 -3.04452244]\n",
      " [-2.56494936 -3.04452244]\n",
      " [-2.56494936 -3.04452244]\n",
      " [-2.56494936 -3.04452244]\n",
      " [-3.25809654 -2.35137526]\n",
      " [-2.56494936 -2.35137526]\n",
      " [-2.56494936 -3.04452244]\n",
      " [-3.25809654 -2.35137526]\n",
      " [-2.56494936 -3.04452244]\n",
      " [-3.25809654 -2.35137526]\n",
      " [-1.87180218 -3.04452244]\n",
      " [-2.56494936 -3.04452244]\n",
      " [-2.15948425 -2.35137526]\n",
      " [-3.25809654 -2.35137526]\n",
      " [-2.56494936 -3.04452244]\n",
      " [-2.56494936 -3.04452244]\n",
      " [-3.25809654 -2.35137526]\n",
      " [-2.56494936 -3.04452244]\n",
      " [-2.56494936 -3.04452244]\n",
      " [-2.56494936 -3.04452244]\n",
      " [-2.15948425 -3.04452244]\n",
      " [-3.25809654 -2.35137526]]\n",
      "0.5\n"
     ]
    }
   ],
   "source": [
    "posting_list, classes_list = bayes.load_dataset()\n",
    "my_vocal_list = bayes.create_vocab_list(posting_list)\n",
    "train_mat = bayes.set_of_words_2_vec(my_vocal_list, posting_list)\n",
    "p_vects, p_abusive = bayes.train_NB(train_mat, classes_list)\n",
    "print(p_vects)\n",
    "print(p_abusive)"
   ]
  },
  {
   "cell_type": "code",
   "execution_count": 9,
   "metadata": {},
   "outputs": [
    {
     "name": "stdout",
     "output_type": "stream",
     "text": [
      "[['love', 'my', 'dalmation'], ['stupid', 'garbage']] classified as:  [0, 1]\n",
      "['stupid', 'garbage'] classified as:  [1]\n"
     ]
    }
   ],
   "source": [
    "bayes.testing_NB()"
   ]
  },
  {
   "cell_type": "code",
   "execution_count": 20,
   "metadata": {},
   "outputs": [
    {
     "name": "stdout",
     "output_type": "stream",
     "text": [
      "error in predicting:  ['hommies', 'just', 'got', 'phone', 'call', 'from', 'the', 'roofer', 'they', 'will', 'come', 'and', 'spaying', 'the', 'foaming', 'today', 'will', 'dusty', 'pls', 'close', 'all', 'the', 'doors', 'and', 'windows', 'could', 'you', 'help', 'close', 'bathroom', 'window', 'cat', 'window', 'and', 'the', 'sliding', 'door', 'behind', 'the', 'don', 'know', 'how', 'can', 'those', 'cats', 'survive', 'sorry', 'for', 'any', 'inconvenience'] \n",
      "predicted: 1 actual: 0\n",
      "the error rate is: 10.00%\n"
     ]
    }
   ],
   "source": [
    "bayes.spam_test()"
   ]
  },
  {
   "cell_type": "code",
   "execution_count": null,
   "metadata": {},
   "outputs": [],
   "source": []
  }
 ],
 "metadata": {
  "file_extension": ".py",
  "kernelspec": {
   "display_name": "Python 3",
   "language": "python",
   "name": "python3"
  },
  "language_info": {
   "codemirror_mode": {
    "name": "ipython",
    "version": 3
   },
   "file_extension": ".py",
   "mimetype": "text/x-python",
   "name": "python",
   "nbconvert_exporter": "python",
   "pygments_lexer": "ipython3",
   "version": "3.6.6"
  },
  "mimetype": "text/x-python",
  "name": "python",
  "npconvert_exporter": "python",
  "pygments_lexer": "ipython3",
  "version": 3
 },
 "nbformat": 4,
 "nbformat_minor": 2
}
